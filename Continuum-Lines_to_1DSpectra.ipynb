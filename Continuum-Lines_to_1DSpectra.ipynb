{
 "cells": [
  {
   "cell_type": "markdown",
   "metadata": {},
   "source": [
    "# Using this notebook one can convert data arrays from SED models to suitable files 1D-Spectra uselful for the MOONS-ETC"
   ]
  },
  {
   "cell_type": "code",
   "execution_count": 2,
   "metadata": {},
   "outputs": [
    {
     "name": "stderr",
     "output_type": "stream",
     "text": [
      "/Users/lam/anaconda3/lib/python3.7/site-packages/pysynphot/locations.py:47: UserWarning: PYSYN_CDBS is undefined; functionality will be SEVERELY crippled.\n",
      "  warnings.warn(\"PYSYN_CDBS is undefined; functionality will be SEVERELY \"\n",
      "/Users/lam/anaconda3/lib/python3.7/site-packages/pysynphot/locations.py:346: UserWarning: Extinction files not found in extinction\n",
      "  warnings.warn('Extinction files not found in %s' % (extdir, ))\n"
     ]
    }
   ],
   "source": [
    "import numpy as np\n",
    "import matplotlib.pyplot as plt\n",
    "from PyAstronomy import pyasl\n",
    "from astropy.table import Table\n",
    "from astropy.io import fits\n",
    "# import spectres\n",
    "import warnings\n",
    "import os\n",
    "from pysynphot import observation\n",
    "from pysynphot import spectrum"
   ]
  },
  {
   "cell_type": "markdown",
   "metadata": {},
   "source": [
    "# Resampling BC03 models"
   ]
  },
  {
   "cell_type": "code",
   "execution_count": 3,
   "metadata": {},
   "outputs": [],
   "source": [
    "# Data to create the names\n",
    "\n",
    "data          = Table.read('/Users/lam/Desktop/MOONS/MOONS_2021/COSMOS_FMOS_MOONS_2021_zCUT_BPT.fits', format='fits')\n",
    "data          = data[:-1]\n",
    "\n",
    "galaxy_names = data['id']"
   ]
  },
  {
   "cell_type": "code",
   "execution_count": 4,
   "metadata": {},
   "outputs": [],
   "source": [
    "def Lobs(Lambda,redshift):\n",
    "    return (Lambda*(redshift + 1.0))\n",
    "\n",
    "def flux_lambda(flux_nu, wavelength):\n",
    "    # Wavelength must be in nm\n",
    "    # Flux_nu must be in mJy\n",
    "# #     return((1.0/3.34e4)*(wavelength*10)**-2*(flux_nu*1e-3))\n",
    "    # Wavelength must be in A\n",
    "    # Flux_nu must be in mJy\n",
    "    return((1.0/3.34e4)*(wavelength)**-2*(flux_nu*1e-3))"
   ]
  },
  {
   "cell_type": "code",
   "execution_count": 5,
   "metadata": {},
   "outputs": [
    {
     "data": {
      "text/plain": [
       "0"
      ]
     },
     "execution_count": 5,
     "metadata": {},
     "output_type": "execute_result"
    }
   ],
   "source": [
    "# Deleting the folders if already created\n",
    "\n",
    "os.system('rm -rf /Users/lam/Desktop/MOONS/MOONS_2021/Spectra_Generation_2021/Salpeter_continuum_lines/')\n",
    "os.system('rm -rf /Users/lam/Desktop/MOONS/MOONS_2021/Spectra_Generation_2021/Chabrier_continuum_lines/')\n",
    "\n",
    "os.system('rm -rf /Users/lam/Desktop/MOONS/MOONS_2021/Spectra_Generation_2021/Salpeter_continuum_lines/uniform/')\n",
    "os.system('rm -rf /Users/lam/Desktop/MOONS/MOONS_2021/Spectra_Generation_2021/Salpeter_continuum_lines/uniform_fluxConserved/')\n",
    "\n",
    "os.system('rm -rf /Users/lam/Desktop/MOONS/MOONS_2021/Spectra_Generation_2021/Chabrier_continuum_lines/uniform/')\n",
    "os.system('rm -rf /Users/lam/Desktop/MOONS/MOONS_2021/Spectra_Generation_2021/Chabrier_continuum_lines/uniform_fluxConserved/')\n",
    "\n",
    "# Creating the folders\n",
    "\n",
    "os.system('mkdir /Users/lam/Desktop/MOONS/MOONS_2021/Spectra_Generation_2021/Salpeter_continuum_lines/')\n",
    "os.system('mkdir /Users/lam/Desktop/MOONS/MOONS_2021/Spectra_Generation_2021/Chabrier_continuum_lines/')\n",
    "\n",
    "os.system('mkdir /Users/lam/Desktop/MOONS/MOONS_2021/Spectra_Generation_2021/Salpeter_continuum_lines/uniform/')\n",
    "os.system('mkdir /Users/lam/Desktop/MOONS/MOONS_2021/Spectra_Generation_2021/Salpeter_continuum_lines/uniform_fluxConserved/')\n",
    "\n",
    "os.system('mkdir /Users/lam/Desktop/MOONS/MOONS_2021/Spectra_Generation_2021/Chabrier_continuum_lines/uniform/')\n",
    "os.system('mkdir /Users/lam/Desktop/MOONS/MOONS_2021/Spectra_Generation_2021/Chabrier_continuum_lines/uniform_fluxConserved/')\n",
    "\n",
    "# For the ETC final results\n",
    "os.system('rm -rf /Users/lam/Desktop/MOONS/MOONS_2021/Spectra_Generation_2021/Salpeter_continuum_lines/ETC_format/')\n",
    "os.system('rm -rf /Users/lam/Desktop/MOONS/MOONS_2021/Spectra_Generation_2021/Chabrier_continuum_lines/ETC_format/')\n",
    "\n",
    "os.system('mkdir /Users/lam/Desktop/MOONS/MOONS_2021/Spectra_Generation_2021/Salpeter_continuum_lines/ETC_format/')\n",
    "os.system('mkdir /Users/lam/Desktop/MOONS/MOONS_2021/Spectra_Generation_2021/Chabrier_continuum_lines/ETC_format/')\n"
   ]
  },
  {
   "cell_type": "markdown",
   "metadata": {},
   "source": [
    "# Simple linear interpoaltion because BC03 are non-uniform distributed"
   ]
  },
  {
   "cell_type": "code",
   "execution_count": null,
   "metadata": {},
   "outputs": [],
   "source": [
    "# the new wavelength range vector is created\n",
    "# I chose this because if I create a vector with 0.9AA there are too many values\n",
    "# The vector cannot be created due to a MemoryError\n",
    "\n",
    "path = '/Users/lam/Desktop/MOONS/MOONS_2021/Spectra_Generation_2021/Salpeter_continuum_lines/'\n",
    "# path = '/Users/lam/Desktop/MOONS/MOONS_2021/Spectra_Generation_2021/Chabrier_continuum_lines/'\n",
    "\n",
    "path_data = '/Users/lam/Desktop/MOONS/MOONS_2021/metal_bins/continuum_lines/Salpeter/All_bins/'\n",
    "# path_data = '/Users/lam/Desktop/MOONS/MOONS_2021/metal_bins/continuum_lines/Chabrier/All_bins/'\n",
    "\n",
    "for i in range(len(galaxy_names)):\n",
    "    \n",
    "    data_BC03 = Table.read(path_data+str(galaxy_names[i])+'_best_model.fits', format = 'fits') \n",
    "    \n",
    "    # Wavelength from nm to Angstrom I multiply by 10\n",
    "    data_BC03['wavelength'] = 10*data_BC03['wavelength']\n",
    "        \n",
    "#         I stopped in 100000A because I consider is enough in wavelength\n",
    "#         The spacing for the sample according to MOONS resolution is 0.23AA-0.35AA for (8000-18000 and 0.72-1.6AA)\n",
    "    \n",
    "    \n",
    "    data_BC03 = data_BC03[data_BC03['wavelength'] <= 110000]\n",
    "    \n",
    "    a = np.min(data_BC03['wavelength'])\n",
    "    wvl_vector = [a]\n",
    "    while a < np.max(data_BC03['wavelength']):\n",
    "        a = a + 0.23\n",
    "        if a > 100000:\n",
    "            break\n",
    "        wvl_vector.append(a)  \n",
    "        \n",
    "    new_spec_wavs = np.array(wvl_vector)\n",
    "    old_spec_wavs = data_BC03['wavelength']\n",
    "    # Flux from mJy to erg cm^-2 s^-1 A^-1    \n",
    "    spec_fluxes   = flux_lambda(data_BC03['Fnu'], data_BC03['wavelength'])         \n",
    "        \n",
    "#         New fluxes are created by inteporlating the new wavelength grid and the old data set\n",
    "#         res_fluxes = spectres.spectres(new_spec_wavs, old_spec_wavs, spec_fluxes, spec_errs=None)\n",
    "    res_fluxes = np.interp(new_spec_wavs, old_spec_wavs, spec_fluxes)\n",
    "        \n",
    "    model_BC03 = Table([new_spec_wavs, res_fluxes], names=('wavelength', 'flux'),\\\n",
    "                        dtype=('f8', 'f8'), meta={'name': str(galaxy_names[i])+'_BC03_'+'uniform'})\n",
    "        \n",
    "    model_BC03.write(path+'uniform/ID_'+str(galaxy_names[i])+'_BC03_continuum_lines.fits',\\\n",
    "                     format = 'fits', overwrite = True)\n"
   ]
  },
  {
   "cell_type": "markdown",
   "metadata": {},
   "source": [
    "# Linear interpoaltion because BC03 are non-uniform distributed (conserves flux)"
   ]
  },
  {
   "cell_type": "code",
   "execution_count": null,
   "metadata": {},
   "outputs": [],
   "source": [
    "def rebin_spec(wave, specin, wavnew):\n",
    "    spec = spectrum.ArraySourceSpectrum(wave=wave, flux=specin)\n",
    "    f = np.ones(len(wave))\n",
    "    filt = spectrum.ArraySpectralElement(wave, f, waveunits='angstrom')\n",
    "    obs = observation.Observation(spec, filt, binset=wavnew, force='taper')\n",
    " \n",
    "    return(obs.binflux)"
   ]
  },
  {
   "cell_type": "code",
   "execution_count": null,
   "metadata": {},
   "outputs": [],
   "source": [
    "# Wavelengths are created only once outside\n",
    "# The 0.23AA comes from the MOONS resolution so we resample everything\n",
    "# to be consistent with MOONS and also CIGALE and BC03 models\n",
    "\n",
    "# BC03 wavlength limits\n",
    "# 91.0-100000000.0\n",
    "\n",
    "path = '/Users/lam/Desktop/MOONS/MOONS_2021/Spectra_Generation_2021/Salpeter_continuum_lines/'\n",
    "# path = '/Users/lam/Desktop/MOONS/MOONS_2021/Spectra_Generation_2021/Chabrier_continuum_lines/'\n",
    "\n",
    "path_data = '/Users/lam/Desktop/MOONS/MOONS_2021/metal_bins/continuum_lines/Salpeter/All_bins/'\n",
    "# path_data = '/Users/lam/Desktop/MOONS/MOONS_2021/metal_bins/continuum_lines/Chabrier/All_bins/'\n",
    "\n",
    "# l = np.min(data_BC03['wavelength'])\n",
    "l = 91.0\n",
    "wvl_vector = [l]\n",
    "# while l < np.max(data_BC03['wavelength']):\n",
    "while l < 100000000.0:\n",
    "    l = l + 0.23\n",
    "    if l > 100000:\n",
    "        break\n",
    "    wvl_vector.append(l)  \n",
    "wvl_vector = np.array(wvl_vector)\n",
    "\n",
    "new_spec_wavs = np.array(wvl_vector)\n",
    "\n",
    "# interpolation per galaxy\n",
    "for i in range(len(galaxy_names)):\n",
    "    \n",
    "    data_BC03 = Table.read(path_data+str(galaxy_names[i])+'_best_model.fits', format = 'fits')\n",
    "    \n",
    "    # Wavelength from nm to Angstrom I multiply by 10\n",
    "    data_BC03['wavelength'] = 10*data_BC03['wavelength']    \n",
    "        \n",
    "#         I stopped in 100000A because I consider is enough in wavelength\n",
    "#         The spacing for the sample according to BC03 is 0.9AA\n",
    "\n",
    "    data_BC03 = data_BC03[data_BC03['wavelength'] <= 110000]\n",
    "\n",
    "    old_spec_wavs = data_BC03['wavelength']\n",
    "    # Flux from mJy to erg cm^-2 s^-1 A^-1    \n",
    "    spec_fluxes   = flux_lambda(data_BC03['Fnu'], data_BC03['wavelength']) \n",
    "        \n",
    "#         New fluxes are created by inteporlating the new wavelength grid and the old data set\n",
    "    spec       = spectrum.ArraySourceSpectrum(wave=old_spec_wavs, flux=spec_fluxes)\n",
    "    f          = np.ones(len(old_spec_wavs))\n",
    "    filt       = spectrum.ArraySpectralElement(old_spec_wavs, f, waveunits='angstrom')\n",
    "    obs        = observation.Observation(spec, filt, binset=new_spec_wavs, force='taper')\n",
    "    res_fluxes = obs.binflux\n",
    "        \n",
    "    # Units for flux are in erg cm^-2 s^-1 A^-1        \n",
    "    model_BC03 = Table([new_spec_wavs, res_fluxes], names=('wavelength', 'flux'),\\\n",
    "                        dtype=('f8', 'f8'), meta={'name': str(galaxy_names[i])+'_BC03_'+'uniform_fluxConserved'})\n",
    "        \n",
    "    model_BC03.write(path+'uniform_fluxConserved/ID_'+str(galaxy_names[i])+'_BC03_continuum_lines.fits',\\\n",
    "                     format = 'fits', overwrite = True)        "
   ]
  },
  {
   "cell_type": "markdown",
   "metadata": {},
   "source": [
    "# Creating the new files in the right format for the ETC\n",
    "# Interpolation with flux conservation"
   ]
  },
  {
   "cell_type": "code",
   "execution_count": null,
   "metadata": {},
   "outputs": [],
   "source": [
    "# This cannot be used for BC03 models directly because the UV-part and the Optical have non-uniform spacing\n",
    "\n",
    "path = '/Users/lam/Desktop/MOONS/MOONS_2021/Spectra_Generation_2021/Salpeter_continuum_lines/'\n",
    "# path = '/Users/lam/Desktop/MOONS/MOONS_2021/Spectra_Generation_2021/Chabrier_continuum_lines/'\n",
    "\n",
    "path_data = '/Users/lam/Desktop/MOONS/MOONS_2021/metal_bins/continuum_lines/Salpeter/All_bins/'\n",
    "# path_data = '/Users/lam/Desktop/MOONS/MOONS_2021/metal_bins/continuum_lines/Chabrier/All_bins/'\n",
    "\n",
    "for i in range(len(galaxy_names)):\n",
    "        \n",
    "    data_BC03 = Table.read(path+'uniform_fluxConserved/ID_'+str(galaxy_names[i])+'_BC03_continuum_lines.fits', format = 'fits')\n",
    "            \n",
    "            \n",
    "# R should be equal to central_wavelength (A) / (delta_lambda in Ang) = [(6800.2 + 1000.2) / 2.]/0.55 = 7091\n",
    "\n",
    "# Sampling is pixels – Over how many pixels the element of resolution is spead. Usually 2 or 3 \n",
    "# (to be Nyquist sampled) I guess is 0.55/0.2 = 2.75 in your case.\n",
    "\n",
    "\n",
    "    header_BC03 = {\"CODE\":'CIGALE / Simulation Code',\\\n",
    "                   \"MTYPE\":'Galaxy',\\\n",
    "                   \"MNAME\": str(galaxy_names[i])+' / Model Name',\\\n",
    "                   \"R\":2200.0,\\\n",
    "                   \"SAMPLING\":0.23,\\\n",
    "                   \"V_disp\":0.0,\\\n",
    "                   \"TUNIT1\":'Angstroms',\\\n",
    "                   \"TUNIT2\":'erg/s/cm2/A',\\\n",
    "                   \"LAMBDA0\":5445.00}        \n",
    "        \n",
    "    # Passing wavelength directly\n",
    "                \n",
    "    wvl_BC03 = data_BC03['wavelength']\n",
    "\n",
    "    pyasl.write1dFitsSpec(path+'ETC_format/ID_'+str(galaxy_names[i])+'_BC03_continuum_lines.fits', data_BC03['flux'], wvl=wvl_BC03, header=header_BC03, clobber=True)       \n",
    "    "
   ]
  },
  {
   "cell_type": "code",
   "execution_count": null,
   "metadata": {},
   "outputs": [],
   "source": []
  }
 ],
 "metadata": {
  "kernelspec": {
   "display_name": "Python 3",
   "language": "python",
   "name": "python3"
  },
  "language_info": {
   "codemirror_mode": {
    "name": "ipython",
    "version": 3
   },
   "file_extension": ".py",
   "mimetype": "text/x-python",
   "name": "python",
   "nbconvert_exporter": "python",
   "pygments_lexer": "ipython3",
   "version": "3.7.3"
  }
 },
 "nbformat": 4,
 "nbformat_minor": 2
}
